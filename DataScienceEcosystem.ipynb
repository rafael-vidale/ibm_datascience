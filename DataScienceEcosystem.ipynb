{
 "cells": [
  {
   "cell_type": "markdown",
   "id": "0e0431dc-1882-47db-8351-60558ab0a299",
   "metadata": {},
   "source": [
    "<h1>Data Science Tools and Ecosystem</h1>"
   ]
  },
  {
   "cell_type": "markdown",
   "id": "58f5630b-8a75-4e6d-8d11-4050dfae509d",
   "metadata": {},
   "source": [
    "<h2>Author:</h2>\n",
    "Rafael Vidal Eleutério"
   ]
  },
  {
   "cell_type": "markdown",
   "id": "c141a6a9-86f1-4344-bced-847bc6635300",
   "metadata": {},
   "source": [
    "In this notebook, Data Science Tools and Ecosystem are summarized"
   ]
  },
  {
   "cell_type": "markdown",
   "id": "be5cace2-50d6-4b6a-bfcc-bfba7246035a",
   "metadata": {},
   "source": [
    "**Objectives:**\n",
    "\n",
    "    - List popular languages for Data Science\n",
    "    - List some common libraries used by Data Scientists\n",
    "    - To give a pair of examples of arithmetic expression in Python\n",
    "    - To practice Jupyter Notebooks\n"
   ]
  },
  {
   "cell_type": "markdown",
   "id": "87dcb799-089c-43c1-b5a9-3f15f560c6f5",
   "metadata": {
    "tags": []
   },
   "source": [
    "Some of the popular languages that Data Scientists use are:\n",
    "1. Python\n",
    "2. R\n",
    "3. SQL"
   ]
  },
  {
   "cell_type": "markdown",
   "id": "09210bbc-fee5-4a6d-a224-ddea6c68cbd7",
   "metadata": {
    "tags": []
   },
   "source": [
    "Some of the commonly used libraries used by Data Scientists include:\n",
    "1. Numpy\n",
    "2. Pandas\n",
    "3. Matplotlib"
   ]
  },
  {
   "cell_type": "markdown",
   "id": "5cba95aa-e4a1-4974-a671-764932bc4db2",
   "metadata": {},
   "source": [
    "| Data Science Tools |\n",
    ":-------------------:\n",
    "| Jupyter Notebooks |\n",
    "| R Studio |\n",
    "| Zeppelin Notebooks |"
   ]
  },
  {
   "cell_type": "markdown",
   "id": "87544cc8-bdab-4eef-8772-91bda31775ec",
   "metadata": {},
   "source": [
    "<h3> Below are a few examples of evaluating arithmetic expressions in Python </h3>"
   ]
  },
  {
   "cell_type": "code",
   "execution_count": 6,
   "id": "c6c565af-b300-41bb-bde6-8dda772418ed",
   "metadata": {
    "tags": []
   },
   "outputs": [
    {
     "data": {
      "text/plain": [
       "17"
      ]
     },
     "execution_count": 6,
     "metadata": {},
     "output_type": "execute_result"
    }
   ],
   "source": [
    "#This a simple arithmetic expression to mutiply then add integers\n",
    "\n",
    "(3*4)+5"
   ]
  },
  {
   "cell_type": "code",
   "execution_count": 7,
   "id": "5c08b118-bf4f-431f-b93a-d71f859cfaf4",
   "metadata": {
    "tags": []
   },
   "outputs": [
    {
     "data": {
      "text/plain": [
       "3.3333333333333335"
      ]
     },
     "execution_count": 7,
     "metadata": {},
     "output_type": "execute_result"
    }
   ],
   "source": [
    "#200 minutes to hours by diving by 60\n",
    "\n",
    "200/60"
   ]
  }
 ],
 "metadata": {
  "kernelspec": {
   "display_name": "Python",
   "language": "python",
   "name": "conda-env-python-py"
  },
  "language_info": {
   "codemirror_mode": {
    "name": "ipython",
    "version": 3
   },
   "file_extension": ".py",
   "mimetype": "text/x-python",
   "name": "python",
   "nbconvert_exporter": "python",
   "pygments_lexer": "ipython3",
   "version": "3.7.12"
  }
 },
 "nbformat": 4,
 "nbformat_minor": 5
}
